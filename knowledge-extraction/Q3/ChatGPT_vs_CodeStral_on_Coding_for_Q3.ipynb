{
  "nbformat": 4,
  "nbformat_minor": 0,
  "metadata": {
    "colab": {
      "provenance": [],
      "authorship_tag": "ABX9TyOnoHVER/Emeiw+aek5vsZL",
      "include_colab_link": true
    },
    "kernelspec": {
      "name": "python3",
      "display_name": "Python 3"
    },
    "language_info": {
      "name": "python"
    }
  },
  "cells": [
    {
      "cell_type": "markdown",
      "metadata": {
        "id": "view-in-github",
        "colab_type": "text"
      },
      "source": [
        "<a href=\"https://colab.research.google.com/github/marco-siino/gpt_networking/blob/main/Q3/ChatGPT_vs_CodeStral_on_Coding_for_Q3.ipynb\" target=\"_parent\"><img src=\"https://colab.research.google.com/assets/colab-badge.svg\" alt=\"Open In Colab\"/></a>"
      ]
    },
    {
      "cell_type": "markdown",
      "source": [
        "# ChatGPT"
      ],
      "metadata": {
        "id": "fkCII-N2xHt0"
      }
    },
    {
      "cell_type": "code",
      "execution_count": 3,
      "metadata": {
        "colab": {
          "base_uri": "https://localhost:8080/"
        },
        "id": "YLMZfPP3xAav",
        "outputId": "a3749829-87e6-4e3a-9e78-18c4c86dcfab"
      },
      "outputs": [
        {
          "output_type": "stream",
          "name": "stdout",
          "text": [
            "dev_eui: 124 number of retransmissions: 2\n",
            "dev_eui: 128 number of retransmissions: 3\n",
            "dev_eui: 129 number of retransmissions: 2\n"
          ]
        }
      ],
      "source": [
        "def count_retransmissions(log):\n",
        "    from collections import defaultdict\n",
        "\n",
        "    # Initialize a dictionary to hold the FCnt for each dev_eui\n",
        "    dev_eui_fcnts = defaultdict(list)\n",
        "    # Initialize a dictionary to hold the retransmission count for each dev_eui\n",
        "    retransmissions = defaultdict(int)\n",
        "\n",
        "    # Split the log into lines\n",
        "    lines = log.strip().split(\"\\n\")\n",
        "\n",
        "    # Process each line\n",
        "    for line in lines:\n",
        "        # Extract dev_eui and FCnt values\n",
        "        parts = line.split(\", \")\n",
        "        dev_eui = None\n",
        "        fcnt = None\n",
        "        for part in parts:\n",
        "            if part.startswith(\"dev_eui:\"):\n",
        "                dev_eui = int(part.split(\": \")[1])\n",
        "            elif part.startswith(\"FCnt:\"):\n",
        "                fcnt = int(part.split(\": \")[1])\n",
        "\n",
        "        # Store the FCnt in the dictionary and count retransmissions\n",
        "        if dev_eui is not None and fcnt is not None:\n",
        "            if fcnt in dev_eui_fcnts[dev_eui]:\n",
        "                retransmissions[dev_eui] += 1\n",
        "            dev_eui_fcnts[dev_eui].append(fcnt)\n",
        "\n",
        "    # Output the retransmission counts\n",
        "    for dev_eui in sorted(retransmissions.keys()):\n",
        "        print(f\"dev_eui: {dev_eui} number of retransmissions: {retransmissions[dev_eui]}\")\n",
        "\n",
        "# Given LOG string\n",
        "log = \"\"\"time: 2019-06-21 18:14:01.096000, freq: 868.1, chan: 21, lsnr: -2.0, rssi: -114.0, SF: SF7, BW: 125, codr: 4/5, dev_eui: 122, size: 23, FCnt: 4917\n",
        "time: 2019-06-21 18:15:17.743000, freq: 868.3, chan: 22, lsnr: -7.0, rssi: -113.0, SF: SF7, BW: 125, codr: 4/5, dev_eui: 124, size: 23, FCnt: 4661\n",
        "time: 2019-06-21 18:15:23.937000, freq: 868.3, chan: 22, lsnr: -7.0, rssi: -113.0, SF: SF7, BW: 125, codr: 4/5, dev_eui: 124, size: 23, FCnt: 4661\n",
        "time: 2019-06-21 18:19:03.299000, freq: 868.3, chan: 22, lsnr: 3.0, rssi: -108.0, SF: SF7, BW: 125, codr: 4/5, dev_eui: 129, size: 25, FCnt: 209\n",
        "time: 2019-06-21 18:29:13.872000, freq: 868.5, chan: 23, lsnr: 3.0, rssi: -110.0, SF: SF7, BW: 125, codr: 4/5, dev_eui: 121, size: 23, FCnt: 4912\n",
        "time: 2019-06-21 18:33:10.313000, freq: 868.1, chan: 21, lsnr: 0.0, rssi: -113.0, SF: SF7, BW: 125, codr: 4/5, dev_eui: 123, size: 23, FCnt: 4733\n",
        "time: 2019-06-21 18:36:02.130000, freq: 868.3, chan: 22, lsnr: 15.0, rssi: -86.0, SF: SF7, BW: 125, codr: 4/5, dev_eui: 127, size: 23, FCnt: 4863\n",
        "time: 2019-06-21 18:38:14.847000, freq: 868.5, chan: 23, lsnr: 15.0, rssi: -91.0, SF: SF7, BW: 125, codr: 4/5, dev_eui: 120, size: 23, FCnt: 961\n",
        "time: 2019-06-21 19:03:22.842000, freq: 868.5, chan: 23, lsnr: 15.0, rssi: -81.0, SF: SF7, BW: 125, codr: 4/5, dev_eui: 125, size: 23, FCnt: 412\n",
        "time: 2019-06-21 19:05:50.163000, freq: 868.5, chan: 23, lsnr: 6.0, rssi: -107.0, SF: SF7, BW: 125, codr: 4/5, dev_eui: 126, size: 23, FCnt: 4906\n",
        "time: 2019-06-21 19:07:06.216000, freq: 868.3, chan: 22, lsnr: -5.0, rssi: -113.0, SF: SF7, BW: 125, codr: 4/5, dev_eui: 128, size: 23, FCnt: 4663\n",
        "time: 2019-06-21 19:07:12.413000, freq: 868.1, chan: 21, lsnr: -6.0, rssi: -115.0, SF: SF7, BW: 125, codr: 4/5, dev_eui: 128, size: 23, FCnt: 4663\n",
        "time: 2019-06-21 19:07:18.547000, freq: 868.5, chan: 23, lsnr: -3.0, rssi: -115.0, SF: SF7, BW: 125, codr: 4/5, dev_eui: 128, size: 23, FCnt: 4663\n",
        "time: 2019-06-21 19:14:00.626000, freq: 868.1, chan: 21, lsnr: -8.0, rssi: -111.0, SF: SF7, BW: 125, codr: 4/5, dev_eui: 122, size: 23, FCnt: 4918\n",
        "time: 2019-06-21 19:15:16.953000, freq: 868.1, chan: 21, lsnr: -5.0, rssi: -114.0, SF: SF7, BW: 125, codr: 4/5, dev_eui: 124, size: 23, FCnt: 4662\n",
        "time: 2019-06-21 19:15:23.151000, freq: 868.1, chan: 21, lsnr: -7.0, rssi: -114.0, SF: SF7, BW: 125, codr: 4/5, dev_eui: 124, size: 23, FCnt: 4662\n",
        "time: 2019-06-21 19:19:02.849000, freq: 868.1, chan: 21, lsnr: 9.0, rssi: -105.0, SF: SF7, BW: 125, codr: 4/5, dev_eui: 129, size: 25, FCnt: 210\n",
        "time: 2019-06-21 19:19:08.978000, freq: 868.5, chan: 23, lsnr: 9.0, rssi: -105.0, SF: SF7, BW: 125, codr: 4/5, dev_eui: 129, size: 25, FCnt: 210\n",
        "time: 2019-06-21 19:19:15.175000, freq: 868.5, chan: 23, lsnr: 7.0, rssi: -108.0, SF: SF7, BW: 125, codr: 4/5, dev_eui: 129, size: 25, FCnt: 210\n",
        "time: 2019-06-21 19:29:13.033000, freq: 868.5, chan: 23, lsnr: 3.0, rssi: -111.0, SF: SF7, BW: 125, codr: 4/5, dev_eui: 121, size: 23, FCnt: 4913\n",
        "time: 2019-06-21 19:33:10.049000, freq: 868.3, chan: 22, lsnr: -4.0, rssi: -112.0, SF: SF7, BW: 125, codr: 4/5, dev_eui: 123, size: 23, FCnt: 4734\n",
        "time: 2019-06-21 19:36:01.237000, freq: 868.3, chan: 22, lsnr: 15.0, rssi: -85.0, SF: SF7, BW: 125, codr: 4/5, dev_eui: 127, size: 25, FCnt: 4864\n",
        "time: 2019-06-21 19:38:14, freq: 868.3, chan: 22, lsnr: 12.0, rssi: -94.0, SF: SF7, BW: 125, codr: 4/5, dev_eui: 120, size: 23, FCnt: 962\n",
        "time: 2019-06-21 20:03:21.908000, freq: 868.3, chan: 22, lsnr: 14.0, rssi: -80.0, SF: SF7, BW: 125, codr: 4/5, dev_eui: 125, size: 23, FCnt: 413\n",
        "time: 2019-06-21 20:05:49.269000, freq: 868.3, chan: 22, lsnr: 0.0, rssi: -110.0, SF: SF7, BW: 125, codr: 4/5, dev_eui: 126, size: 23, FCnt: 4907\n",
        "time: 2019-06-21 20:07:05.913000, freq: 868.1, chan: 21, lsnr: -3.0, rssi: -114.0, SF: SF7, BW: 125, codr: 4/5, dev_eui: 128, size: 23, FCnt: 4664\n",
        "time: 2019-06-21 20:07:12.039000, freq: 868.5, chan: 23, lsnr: -2.0, rssi: -114.0, SF: SF7, BW: 125, codr: 4/5, dev_eui: 128, size: 23, FCnt: 4664\"\"\"\n",
        "\n",
        "count_retransmissions(log)\n"
      ]
    },
    {
      "cell_type": "markdown",
      "source": [
        "# Codestral"
      ],
      "metadata": {
        "id": "eMyKUGeAxLwb"
      }
    },
    {
      "cell_type": "code",
      "source": [
        "def count_retransmissions(log):\n",
        "    retransmissions = {}\n",
        "    lines = log.strip().split('\\n')\n",
        "    for line in lines:\n",
        "        parts = line.split(', ')\n",
        "        dev_eui = int(parts[7].split(': ')[1])\n",
        "        fcnt = int(parts[10].split(': ')[1])\n",
        "        if dev_eui in retransmissions:\n",
        "            if fcnt in retransmissions[dev_eui]:\n",
        "                retransmissions[dev_eui][fcnt] += 1\n",
        "            else:\n",
        "                retransmissions[dev_eui][fcnt] = 1\n",
        "        else:\n",
        "            retransmissions[dev_eui] = {fcnt: 1}\n",
        "\n",
        "    for dev_eui, fcnts in retransmissions.items():\n",
        "        total_retransmissions = sum(fcnts.values()) - len(fcnts)\n",
        "        print(f\"dev_eui: {dev_eui} number of retransmissions: {total_retransmissions}\")\n",
        "\n",
        "# Test the function with the provided log\n",
        "log = \"\"\"\n",
        "time: 2019-06-21 18:14:01.096000, freq: 868.1, chan: 21, lsnr: -2.0, rssi: -114.0, SF: SF7, BW: 125, codr: 4/5, dev_eui: 122, size: 23, FCnt: 4917\n",
        "time: 2019-06-21 18:15:17.743000, freq: 868.3, chan: 22, lsnr: -7.0, rssi: -113.0, SF: SF7, BW: 125, codr: 4/5, dev_eui: 124, size: 23, FCnt: 4661\n",
        "time: 2019-06-21 18:15:23.937000, freq: 868.3, chan: 22, lsnr: -7.0, rssi: -113.0, SF: SF7, BW: 125, codr: 4/5, dev_eui: 124, size: 23, FCnt: 4661\n",
        "time: 2019-06-21 18:19:03.299000, freq: 868.3, chan: 22, lsnr: 3.0, rssi: -108.0, SF: SF7, BW: 125, codr: 4/5, dev_eui: 129, size: 25, FCnt: 209\n",
        "time: 2019-06-21 18:29:13.872000, freq: 868.5, chan: 23, lsnr: 3.0, rssi: -110.0, SF: SF7, BW: 125, codr: 4/5, dev_eui: 121, size: 23, FCnt: 4912\n",
        "time: 2019-06-21 18:33:10.313000, freq: 868.1, chan: 21, lsnr: 0.0, rssi: -113.0, SF: SF7, BW: 125, codr: 4/5, dev_eui: 123, size: 23, FCnt: 4733\n",
        "time: 2019-06-21 18:36:02.130000, freq: 868.3, chan: 22, lsnr: 15.0, rssi: -86.0, SF: SF7, BW: 125, codr: 4/5, dev_eui: 127, size: 23, FCnt: 4863\n",
        "time: 2019-06-21 18:38:14.847000, freq: 868.5, chan: 23, lsnr: 15.0, rssi: -91.0, SF: SF7, BW: 125, codr: 4/5, dev_eui: 120, size: 23, FCnt: 961\n",
        "time: 2019-06-21 19:03:22.842000, freq: 868.5, chan: 23, lsnr: 15.0, rssi: -81.0, SF: SF7, BW: 125, codr: 4/5, dev_eui: 125, size: 23, FCnt: 412\n",
        "time: 2019-06-21 19:05:50.163000, freq: 868.5, chan: 23, lsnr: 6.0, rssi: -107.0, SF: SF7, BW: 125, codr: 4/5, dev_eui: 126, size: 23, FCnt: 4906\n",
        "time: 2019-06-21 19:07:06.216000, freq: 868.3, chan: 22, lsnr: -5.0, rssi: -113.0, SF: SF7, BW: 125, codr: 4/5, dev_eui: 128, size: 23, FCnt: 4663\n",
        "time: 2019-06-21 19:07:12.413000, freq: 868.1, chan: 21, lsnr: -6.0, rssi: -115.0, SF: SF7, BW: 125, codr: 4/5, dev_eui: 128, size: 23, FCnt: 4663\n",
        "time: 2019-06-21 19:07:18.547000, freq: 868.5, chan: 23, lsnr: -3.0, rssi: -115.0, SF: SF7, BW: 125, codr: 4/5, dev_eui: 128, size: 23, FCnt: 4663\n",
        "time: 2019-06-21 19:14:00.626000, freq: 868.1, chan: 21, lsnr: -8.0, rssi: -111.0, SF: SF7, BW: 125, codr: 4/5, dev_eui: 122, size: 23, FCnt: 4918\n",
        "time: 2019-06-21 19:15:16.953000, freq: 868.1, chan: 21, lsnr: -5.0, rssi: -114.0, SF: SF7, BW: 125, codr: 4/5, dev_eui: 124, size: 23, FCnt: 4662\n",
        "time: 2019-06-21 19:15:23.151000, freq: 868.1, chan: 21, lsnr: -7.0, rssi: -114.0, SF: SF7, BW: 125, codr: 4/5, dev_eui: 124, size: 23, FCnt: 4662\n",
        "time: 2019-06-21 19:19:02.849000, freq: 868.1, chan: 21, lsnr: 9.0, rssi: -105.0, SF: SF7, BW: 125, codr: 4/5, dev_eui: 129, size: 25, FCnt: 210\n",
        "time: 2019-06-21 19:19:08.978000, freq: 868.5, chan: 23, lsnr: 9.0, rssi: -105.0, SF: SF7, BW: 125, codr: 4/5, dev_eui: 129, size: 25, FCnt: 210\n",
        "time: 2019-06-21 19:19:15.175000, freq: 868.5, chan: 23, lsnr: 7.0, rssi: -108.0, SF: SF7, BW: 125, codr: 4/5, dev_eui: 129, size: 25, FCnt: 210\n",
        "time: 2019-06-21 19:29:13.033000, freq: 868.5, chan: 23, lsnr: 3.0, rssi: -111.0, SF: SF7, BW: 125, codr: 4/5, dev_eui: 121, size: 23, FCnt: 4913\n",
        "time: 2019-06-21 19:33:10.049000, freq: 868.3, chan: 22, lsnr: -4.0, rssi: -112.0, SF: SF7, BW: 125, codr: 4/5, dev_eui: 123, size: 23, FCnt: 4734\n",
        "time: 2019-06-21 19:36:01.237000, freq: 868.3, chan: 22, lsnr: 15.0, rssi: -85.0, SF: SF7, BW: 125, codr: 4/5, dev_eui: 127, size: 25, FCnt: 4864\n",
        "time: 2019-06-21 19:38:14, freq: 868.3, chan: 22, lsnr: 12.0, rssi: -94.0, SF: SF7, BW: 125, codr: 4/5, dev_eui: 120, size: 23, FCnt: 962\n",
        "time: 2019-06-21 20:03:21.908000, freq: 868.3, chan: 22, lsnr: 14.0, rssi: -80.0, SF: SF7, BW: 125, codr: 4/5, dev_eui: 125, size: 23, FCnt: 413\n",
        "time: 2019-06-21 20:05:49.269000, freq: 868.3, chan: 22, lsnr: 0.0, rssi: -110.0, SF: SF7, BW: 125, codr: 4/5, dev_eui: 126, size: 23, FCnt: 4907\n",
        "time: 2019-06-21 20:07:05.913000, freq: 868.1, chan: 21, lsnr: -3.0, rssi: -114.0, SF: SF7, BW: 125, codr: 4/5, dev_eui: 128, size: 23, FCnt: 4664\n",
        "time: 2019-06-21 20:07:12.039000, freq: 868.5, chan: 23, lsnr: -2.0, rssi: -114.0, SF: SF7, BW: 125, codr: 4/5, dev_eui: 128, size: 23, FCnt: 4664\n",
        "\"\"\"\n",
        "\n",
        "count_retransmissions(log)\n"
      ],
      "metadata": {
        "colab": {
          "base_uri": "https://localhost:8080/",
          "height": 305
        },
        "id": "wYJ2wgx_xNAI",
        "outputId": "feb42086-5ab4-4696-bad5-2eb6858d2156"
      },
      "execution_count": 2,
      "outputs": [
        {
          "output_type": "error",
          "ename": "ValueError",
          "evalue": "invalid literal for int() with base 10: '4/5'",
          "traceback": [
            "\u001b[0;31m---------------------------------------------------------------------------\u001b[0m",
            "\u001b[0;31mValueError\u001b[0m                                Traceback (most recent call last)",
            "\u001b[0;32m<ipython-input-2-d01c4b38ea45>\u001b[0m in \u001b[0;36m<cell line: 51>\u001b[0;34m()\u001b[0m\n\u001b[1;32m     49\u001b[0m \"\"\"\n\u001b[1;32m     50\u001b[0m \u001b[0;34m\u001b[0m\u001b[0m\n\u001b[0;32m---> 51\u001b[0;31m \u001b[0mcount_retransmissions\u001b[0m\u001b[0;34m(\u001b[0m\u001b[0mlog\u001b[0m\u001b[0;34m)\u001b[0m\u001b[0;34m\u001b[0m\u001b[0;34m\u001b[0m\u001b[0m\n\u001b[0m",
            "\u001b[0;32m<ipython-input-2-d01c4b38ea45>\u001b[0m in \u001b[0;36mcount_retransmissions\u001b[0;34m(log)\u001b[0m\n\u001b[1;32m      4\u001b[0m     \u001b[0;32mfor\u001b[0m \u001b[0mline\u001b[0m \u001b[0;32min\u001b[0m \u001b[0mlines\u001b[0m\u001b[0;34m:\u001b[0m\u001b[0;34m\u001b[0m\u001b[0;34m\u001b[0m\u001b[0m\n\u001b[1;32m      5\u001b[0m         \u001b[0mparts\u001b[0m \u001b[0;34m=\u001b[0m \u001b[0mline\u001b[0m\u001b[0;34m.\u001b[0m\u001b[0msplit\u001b[0m\u001b[0;34m(\u001b[0m\u001b[0;34m', '\u001b[0m\u001b[0;34m)\u001b[0m\u001b[0;34m\u001b[0m\u001b[0;34m\u001b[0m\u001b[0m\n\u001b[0;32m----> 6\u001b[0;31m         \u001b[0mdev_eui\u001b[0m \u001b[0;34m=\u001b[0m \u001b[0mint\u001b[0m\u001b[0;34m(\u001b[0m\u001b[0mparts\u001b[0m\u001b[0;34m[\u001b[0m\u001b[0;36m7\u001b[0m\u001b[0;34m]\u001b[0m\u001b[0;34m.\u001b[0m\u001b[0msplit\u001b[0m\u001b[0;34m(\u001b[0m\u001b[0;34m': '\u001b[0m\u001b[0;34m)\u001b[0m\u001b[0;34m[\u001b[0m\u001b[0;36m1\u001b[0m\u001b[0;34m]\u001b[0m\u001b[0;34m)\u001b[0m\u001b[0;34m\u001b[0m\u001b[0;34m\u001b[0m\u001b[0m\n\u001b[0m\u001b[1;32m      7\u001b[0m         \u001b[0mfcnt\u001b[0m \u001b[0;34m=\u001b[0m \u001b[0mint\u001b[0m\u001b[0;34m(\u001b[0m\u001b[0mparts\u001b[0m\u001b[0;34m[\u001b[0m\u001b[0;36m10\u001b[0m\u001b[0;34m]\u001b[0m\u001b[0;34m.\u001b[0m\u001b[0msplit\u001b[0m\u001b[0;34m(\u001b[0m\u001b[0;34m': '\u001b[0m\u001b[0;34m)\u001b[0m\u001b[0;34m[\u001b[0m\u001b[0;36m1\u001b[0m\u001b[0;34m]\u001b[0m\u001b[0;34m)\u001b[0m\u001b[0;34m\u001b[0m\u001b[0;34m\u001b[0m\u001b[0m\n\u001b[1;32m      8\u001b[0m         \u001b[0;32mif\u001b[0m \u001b[0mdev_eui\u001b[0m \u001b[0;32min\u001b[0m \u001b[0mretransmissions\u001b[0m\u001b[0;34m:\u001b[0m\u001b[0;34m\u001b[0m\u001b[0;34m\u001b[0m\u001b[0m\n",
            "\u001b[0;31mValueError\u001b[0m: invalid literal for int() with base 10: '4/5'"
          ]
        }
      ]
    }
  ]
}