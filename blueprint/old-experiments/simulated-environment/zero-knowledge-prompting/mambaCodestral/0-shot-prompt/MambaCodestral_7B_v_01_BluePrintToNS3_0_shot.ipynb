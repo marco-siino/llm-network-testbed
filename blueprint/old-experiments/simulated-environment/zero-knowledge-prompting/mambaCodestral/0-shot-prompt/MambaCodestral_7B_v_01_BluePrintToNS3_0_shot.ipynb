{
  "cells": [
    {
      "cell_type": "markdown",
      "metadata": {
        "id": "view-in-github",
        "colab_type": "text"
      },
      "source": [
        "<a href=\"https://colab.research.google.com/github/marco-siino/llm-network-testbed/blob/main/blueprint/simulated-environment/mambaCodestral/0-shot-prompt/MambaCodestral_7B_v_01_BluePrintToNS3_0_shot.ipynb\" target=\"_parent\"><img src=\"https://colab.research.google.com/assets/colab-badge.svg\" alt=\"Open In Colab\"/></a>"
      ]
    },
    {
      "cell_type": "markdown",
      "metadata": {
        "id": "ZQ2cK7CovdZy"
      },
      "source": [
        "# Importing libraries and load the model."
      ]
    },
    {
      "cell_type": "code",
      "source": [
        "import os\n",
        "!pip install mistralai\n",
        "from mistralai import Mistral\n",
        "\n",
        "#api_key = os.environ['7yOu0lH5XcZC1U2ZUI2uv0ghBDduhHp5']\n",
        "\n",
        "client = Mistral(api_key='7yOu0lH5XcZC1U2ZUI2uv0ghBDduhHp5')\n",
        "\n",
        "model = \"codestral-mamba-latest\"\n",
        "\n",
        "message = [\n",
        "    {\n",
        "        \"role\": \"user\",\n",
        "        \"content\": \"Write a function for fibonacci\"\n",
        "    }\n",
        "]\n",
        "\n",
        "chat_response = client.chat.complete(\n",
        "    model=model,\n",
        "    messages=message\n",
        ")\n",
        "print(chat_response.choices[0].message.content)"
      ],
      "metadata": {
        "colab": {
          "base_uri": "https://localhost:8080/"
        },
        "id": "cQRgbDtSiALw",
        "outputId": "dd708049-3e97-412a-bfce-211e5bd2f3f1"
      },
      "execution_count": 1,
      "outputs": [
        {
          "output_type": "stream",
          "name": "stdout",
          "text": [
            "Collecting mistralai\n",
            "  Downloading mistralai-1.2.5-py3-none-any.whl.metadata (27 kB)\n",
            "Requirement already satisfied: eval-type-backport<0.3.0,>=0.2.0 in /usr/local/lib/python3.10/dist-packages (from mistralai) (0.2.0)\n",
            "Requirement already satisfied: httpx<0.28.0,>=0.27.0 in /usr/local/lib/python3.10/dist-packages (from mistralai) (0.27.2)\n",
            "Collecting jsonpath-python<2.0.0,>=1.0.6 (from mistralai)\n",
            "  Downloading jsonpath_python-1.0.6-py3-none-any.whl.metadata (12 kB)\n",
            "Requirement already satisfied: pydantic<3.0.0,>=2.9.0 in /usr/local/lib/python3.10/dist-packages (from mistralai) (2.9.2)\n",
            "Requirement already satisfied: python-dateutil<3.0.0,>=2.8.2 in /usr/local/lib/python3.10/dist-packages (from mistralai) (2.8.2)\n",
            "Collecting typing-inspect<0.10.0,>=0.9.0 (from mistralai)\n",
            "  Downloading typing_inspect-0.9.0-py3-none-any.whl.metadata (1.5 kB)\n",
            "Requirement already satisfied: anyio in /usr/local/lib/python3.10/dist-packages (from httpx<0.28.0,>=0.27.0->mistralai) (3.7.1)\n",
            "Requirement already satisfied: certifi in /usr/local/lib/python3.10/dist-packages (from httpx<0.28.0,>=0.27.0->mistralai) (2024.8.30)\n",
            "Requirement already satisfied: httpcore==1.* in /usr/local/lib/python3.10/dist-packages (from httpx<0.28.0,>=0.27.0->mistralai) (1.0.7)\n",
            "Requirement already satisfied: idna in /usr/local/lib/python3.10/dist-packages (from httpx<0.28.0,>=0.27.0->mistralai) (3.10)\n",
            "Requirement already satisfied: sniffio in /usr/local/lib/python3.10/dist-packages (from httpx<0.28.0,>=0.27.0->mistralai) (1.3.1)\n",
            "Requirement already satisfied: h11<0.15,>=0.13 in /usr/local/lib/python3.10/dist-packages (from httpcore==1.*->httpx<0.28.0,>=0.27.0->mistralai) (0.14.0)\n",
            "Requirement already satisfied: annotated-types>=0.6.0 in /usr/local/lib/python3.10/dist-packages (from pydantic<3.0.0,>=2.9.0->mistralai) (0.7.0)\n",
            "Requirement already satisfied: pydantic-core==2.23.4 in /usr/local/lib/python3.10/dist-packages (from pydantic<3.0.0,>=2.9.0->mistralai) (2.23.4)\n",
            "Requirement already satisfied: typing-extensions>=4.6.1 in /usr/local/lib/python3.10/dist-packages (from pydantic<3.0.0,>=2.9.0->mistralai) (4.12.2)\n",
            "Requirement already satisfied: six>=1.5 in /usr/local/lib/python3.10/dist-packages (from python-dateutil<3.0.0,>=2.8.2->mistralai) (1.16.0)\n",
            "Collecting mypy-extensions>=0.3.0 (from typing-inspect<0.10.0,>=0.9.0->mistralai)\n",
            "  Downloading mypy_extensions-1.0.0-py3-none-any.whl.metadata (1.1 kB)\n",
            "Requirement already satisfied: exceptiongroup in /usr/local/lib/python3.10/dist-packages (from anyio->httpx<0.28.0,>=0.27.0->mistralai) (1.2.2)\n",
            "Downloading mistralai-1.2.5-py3-none-any.whl (260 kB)\n",
            "\u001b[2K   \u001b[90m━━━━━━━━━━━━━━━━━━━━━━━━━━━━━━━━━━━━━━━━\u001b[0m \u001b[32m260.0/260.0 kB\u001b[0m \u001b[31m9.4 MB/s\u001b[0m eta \u001b[36m0:00:00\u001b[0m\n",
            "\u001b[?25hDownloading jsonpath_python-1.0.6-py3-none-any.whl (7.6 kB)\n",
            "Downloading typing_inspect-0.9.0-py3-none-any.whl (8.8 kB)\n",
            "Downloading mypy_extensions-1.0.0-py3-none-any.whl (4.7 kB)\n",
            "Installing collected packages: mypy-extensions, jsonpath-python, typing-inspect, mistralai\n",
            "Successfully installed jsonpath-python-1.0.6 mistralai-1.2.5 mypy-extensions-1.0.0 typing-inspect-0.9.0\n",
            "Sure, here is a simple Python function for generating Fibonacci numbers:\n",
            "\n",
            "```python\n",
            "def fibonacci(n):\n",
            "    if n <= 0:\n",
            "        print(\"Input should be a positive integer.\")\n",
            "    elif n == 1:\n",
            "        return 0\n",
            "    elif n == 2:\n",
            "        return 1\n",
            "    else:\n",
            "        a = 0\n",
            "        b = 1\n",
            "        for i in range(2, n):\n",
            "            fib = a + b\n",
            "            a = b\n",
            "            b = fib\n",
            "        return b\n",
            "```\n",
            "\n",
            "This function takes an integer `n` as input and returns the `n`th number in the Fibonacci sequence. The Fibonacci sequence is a series of numbers in which each number is the sum of the two preceding ones, usually starting with 0 and 1.\n"
          ]
        }
      ]
    },
    {
      "cell_type": "markdown",
      "source": [
        "# Generate the NS3 code for the smart_agriculture scenario."
      ],
      "metadata": {
        "id": "_Q0ZQeyMcUkC"
      }
    },
    {
      "cell_type": "code",
      "source": [
        "with open(\"smart_agriculture.json\") as f:\n",
        "        test_blueprint = f.read()"
      ],
      "metadata": {
        "id": "JXUgmkB8tqzg"
      },
      "execution_count": 2,
      "outputs": []
    },
    {
      "cell_type": "code",
      "source": [
        "prompt = \"\"\"\n",
        " Given the following BLUEPRINT generate the NS3 code (to be stored in a file with .cc extension) for it:\n",
        "\n",
        "        BLUEPRINT:\n",
        "\n",
        "        \"\"\"+test_blueprint+\"\"\"\n",
        "\n",
        "        NS3 CODE:\n",
        "\n",
        "        \"\"\"\n",
        "print(prompt)"
      ],
      "metadata": {
        "id": "CnkVEhp1rrOn",
        "colab": {
          "base_uri": "https://localhost:8080/"
        },
        "outputId": "fda74ba1-b01c-4bfb-c15b-d9f5c90daeca"
      },
      "execution_count": 3,
      "outputs": [
        {
          "output_type": "stream",
          "name": "stdout",
          "text": [
            "\n",
            " Given the following BLUEPRINT generate the NS3 code (to be stored in a file with .cc extension) for it:\n",
            "\n",
            "        BLUEPRINT:\n",
            "\n",
            "        {\n",
            "    \"name\": \"Smart Agriculture\",\n",
            "    \"description\": \"A network blueprint for smart agriculture with various sensors and actuators.\",\n",
            "    \"components\": [\n",
            "      {\n",
            "        \"type\": \"Farm Management System\",\n",
            "        \"id\": \"FMS-001\",\n",
            "        \"location\": \"Farm Office\",\n",
            "        \"responsibilities\": [\"Crop Monitoring\", \"Irrigation Control\", \"Data Analysis\"]\n",
            "      },\n",
            "      {\n",
            "        \"type\": \"Soil Moisture Sensor\",\n",
            "        \"id\": \"SMS-001\",\n",
            "        \"location\": \"Field A\",\n",
            "        \"sensor_type\": \"Capacitive\",\n",
            "        \"data_rate\": \"1 Kbps\"\n",
            "      },\n",
            "      {\n",
            "        \"type\": \"Weather Station\",\n",
            "        \"id\": \"WS-001\",\n",
            "        \"location\": \"Field B\",\n",
            "        \"parameters\": [\"Temperature\", \"Humidity\", \"Wind Speed\"],\n",
            "        \"data_rate\": \"5 Kbps\"\n",
            "      },\n",
            "      {\n",
            "        \"type\": \"Irrigation Controller\",\n",
            "        \"id\": \"IC-001\",\n",
            "        \"location\": \"Field C\",\n",
            "        \"control_type\": \"Automatic\",\n",
            "        \"water_flow_rate\": \"10 L/min\"\n",
            "      },\n",
            "      {\n",
            "        \"type\": \"Drone\",\n",
            "        \"id\": \"DR-001\",\n",
            "        \"location\": \"Aerial\",\n",
            "        \"purpose\": \"Crop Surveillance\",\n",
            "        \"flight_time\": \"30 minutes\"\n",
            "      }\n",
            "    ],\n",
            "    \"network_type\": \"LoRaWAN\",\n",
            "    \"protocols\": [\"LoRaWAN\"]\n",
            "  }\n",
            "  \n",
            "\n",
            "        NS3 CODE:\n",
            "\n",
            "        \n"
          ]
        }
      ]
    },
    {
      "cell_type": "code",
      "source": [
        "message = [\n",
        "    {\n",
        "        \"role\": \"user\",\n",
        "        \"content\": prompt\n",
        "    }\n",
        "]\n",
        "\n",
        "chat_response = client.chat.complete(\n",
        "    model=model,\n",
        "    messages=message\n",
        ")\n",
        "print(chat_response.choices[0].message.content)"
      ],
      "metadata": {
        "colab": {
          "base_uri": "https://localhost:8080/"
        },
        "id": "eor5D2OUwk5w",
        "outputId": "338cd3fb-1f41-4242-f24e-a6c577c356d0"
      },
      "execution_count": 4,
      "outputs": [
        {
          "output_type": "stream",
          "name": "stdout",
          "text": [
            "Sure, here is a basic example of how you might model this network in NS3. Please note that NS3 is a C++ library and a full implementation would require more code and detailed configuration.\n",
            "\n",
            "```cpp\n",
            "#include \"ns3/core-module.h\"\n",
            "#include \"ns3/network-module.h\"\n",
            "#include \"ns3/internet-module.h\"\n",
            "#include \"ns3/point-to-point-module.h\"\n",
            "#include \"ns3/wifi-module.h\"\n",
            "#include \"ns3/mobility-module.h\"\n",
            "#include \"ns3/applications-module.h\"\n",
            "\n",
            "using namespace ns3;\n",
            "\n",
            "int main(int argc, char *argv[])\n",
            "{\n",
            "  // Create Nodes\n",
            "  NodeContainer nodes;\n",
            "  nodes.Create(5);\n",
            "\n",
            "  // Create Channels\n",
            "  PointToPointHelper p2p;\n",
            "  p2p.SetDeviceAttribute(\"DataRate\", StringValue(\"5Mbps\"));\n",
            "  p2p.SetChannelAttribute(\"Delay\", StringValue(\"2ms\"));\n",
            "\n",
            "  NetDeviceContainer devices[4];\n",
            "  devices[0] = p2p.Install(nodes.Get(0), nodes.Get(1));\n",
            "  devices[1] = p2p.Install(nodes.Get(1), nodes.Get(2));\n",
            "  devices[2] = p2p.Install(nodes.Get(2), nodes.Get(3));\n",
            "  devices[3] = p2p.Install(nodes.Get(3), nodes.Get(4));\n",
            "\n",
            "  // Install Internet Stack\n",
            "  InternetStackHelper stack;\n",
            "  stack.Install(nodes);\n",
            "\n",
            "  // Assign IP Addresses\n",
            "  Ipv4AddressHelper address;\n",
            "  address.SetBase(\"10.1.1.0\", \"255.255.255.0\");\n",
            "  Ipv4InterfaceContainer interfaces[4];\n",
            "  interfaces[0] = address.Assign(devices[0]);\n",
            "  address.SetBase(\"10.1.2.0\", \"255.255.255.0\");\n",
            "  interfaces[1] = address.Assign(devices[1]);\n",
            "  address.SetBase(\"10.1.3.0\", \"255.255.255.0\");\n",
            "  interfaces[2] = address.Assign(devices[2]);\n",
            "  address.SetBase(\"10.1.4.0\", \"255.255.255.0\");\n",
            "  interfaces[3] = address.Assign(devices[3]);\n",
            "\n",
            "  // Install Applications\n",
            "  // You would need to add your own applications here based on the BLUEPRINT\n",
            "\n",
            "  // Run Simulation\n",
            "  Simulator::Run();\n",
            "  Simulator::Destroy();\n",
            "\n",
            "  return 0;\n",
            "}\n",
            "```\n",
            "\n",
            "This code creates a simple network topology with 5 nodes connected by 4 point-to-point channels. It installs the Internet Stack on all nodes and assigns IP addresses. However, it does not include the applications that would be used in your specific BLUEPRINT. You would need to add those based on the types of sensors and actuators in your BLUEPRINT.\n"
          ]
        }
      ]
    },
    {
      "cell_type": "markdown",
      "source": [
        "## Save the .cc code into a file."
      ],
      "metadata": {
        "id": "Rl6V_3w7Dvg4"
      }
    },
    {
      "cell_type": "code",
      "source": [
        "with open(\"smart_agriculture-0_shot.cc\", \"w\") as file:\n",
        "    file.write(chat_response.choices[0].message.content)"
      ],
      "metadata": {
        "id": "KACIqWTQEOBg"
      },
      "execution_count": 5,
      "outputs": []
    },
    {
      "cell_type": "markdown",
      "source": [
        "# Generate the NS3 code for the smart_city scenario."
      ],
      "metadata": {
        "id": "yo7oDeSMWNBR"
      }
    },
    {
      "cell_type": "code",
      "source": [
        "with open(\"smart_city.json\") as f:\n",
        "        test_blueprint = f.read()"
      ],
      "metadata": {
        "id": "yRdk1y1KWXZE"
      },
      "execution_count": 6,
      "outputs": []
    },
    {
      "cell_type": "code",
      "source": [
        "prompt = \"\"\"\n",
        " Given the following BLUEPRINT generate the NS3 code (to be stored in a file with .cc extension) for it:\n",
        "\n",
        "        BLUEPRINT:\n",
        "\n",
        "        \"\"\"+test_blueprint+\"\"\"\n",
        "\n",
        "        NS3 CODE:\n",
        "\n",
        "        \"\"\"\n",
        "print(prompt)"
      ],
      "metadata": {
        "id": "XeuWKWCXWcLk",
        "colab": {
          "base_uri": "https://localhost:8080/"
        },
        "outputId": "719d1c22-b894-4725-e51e-e60ba2581642"
      },
      "execution_count": 7,
      "outputs": [
        {
          "output_type": "stream",
          "name": "stdout",
          "text": [
            "\n",
            " Given the following BLUEPRINT generate the NS3 code (to be stored in a file with .cc extension) for it:\n",
            "\n",
            "        BLUEPRINT:\n",
            "\n",
            "        {\n",
            "    \"name\": \"Small Smart City\",\n",
            "    \"description\": \"A network blueprint for a small smart city with various IoT applications.\",\n",
            "    \"components\": [\n",
            "      {\n",
            "        \"type\": \"Central Control Center\",\n",
            "        \"id\": \"CCC-001\",\n",
            "        \"location\": \"City Hall\",\n",
            "        \"responsibilities\": [\"Monitoring\", \"Management\", \"Data Analysis\"]\n",
            "      },\n",
            "      {\"type\": \"LoRa Gateway\",\n",
            "        \"id\": \"GW-001\",\n",
            "        \"application\": \"LoRa Gateway\",\n",
            "        \"location\": \"City Hall\",\n",
            "        \"protocol\": \"LoRaWAN\",        \n",
            "        \"latitude\": 38.10351066811096,\n",
            "        \"longitude\": 13.3459399220741\n",
            "      },\n",
            "      {\"type\": \"WiFi AP\",\n",
            "      \"id\": \"AP-001\",\n",
            "      \"application\": \"WiFi Access Point\",\n",
            "      \"location\": \"City Hall\",      \n",
            "      \"protocol\": \"WiFi\",\n",
            "      \"ip_address\":\"192.168.1.1\",        \n",
            "      \"latitude\": 38.10351066811096,\n",
            "      \"longitude\": 13.3459399220741\n",
            "      },\n",
            "      {\n",
            "        \"type\": \"IoT Sensor\",\n",
            "        \"id\": \"IOT-001\",\n",
            "        \"application\": \"Traffic Management\",\n",
            "        \"location\": \"Intersection A\",\n",
            "        \"sensor_type\": \"Traffic Camera Sensor\",\n",
            "        \"protocol\": \"LoRaWAN\",\n",
            "        \"SF\": 7,\n",
            "        \"latitude\": 38.10863528672466,\n",
            "        \"longitude\": 13.34050633101243,\n",
            "        \"data_flow\":\"constant transmission each 1minute\"\n",
            "      },\n",
            "      \n",
            "      {\n",
            "        \"type\": \"IoT Sensor\",\n",
            "        \"id\": \"IOT-002\",\n",
            "        \"application\": \"Waste Management\",\n",
            "        \"location\": \"Bin Area B\",\n",
            "        \"sensor_type\": \"Ultrasonic Sensor\",        \n",
            "        \"protocol\": \"LoRaWAN\",\n",
            "        \"SF\": 7,\n",
            "        \"latitude\": 38.0998337384608,\n",
            "        \"longitude\": 13.337136092765382,\n",
            "        \"data_flow\":\"constant transmission each 1minute\"\n",
            "      },\n",
            "      {\n",
            "        \"type\": \"Camera\",\n",
            "        \"id\": \"STA-001\",\n",
            "        \"application\": \"Camera Monitoring\",\n",
            "        \"location\": \"Park C\",\n",
            "        \"sensor_type\": \"Survelliance camera\",\n",
            "        \"protocol\":\"Wi-Fi\",\n",
            "        \"data_flow\":\"UDP flow at 1Mbps\",\n",
            "        \"ip_address\":\"192.168.1.100\",\n",
            "        \"latitude\": 38.10351066811096,\n",
            "        \"longitude\": 13.3459399220741\n",
            "      }\n",
            "    ],\n",
            "    \"network_type\": \"Heterogeneous\",\n",
            "    \"protocols\": [\"Wi-Fi\", \"LoRaWAN\"]\n",
            "  }\n",
            "  \n",
            "\n",
            "        NS3 CODE:\n",
            "\n",
            "        \n"
          ]
        }
      ]
    },
    {
      "cell_type": "code",
      "source": [
        "message = [\n",
        "    {\n",
        "        \"role\": \"user\",\n",
        "        \"content\": prompt\n",
        "    }\n",
        "]\n",
        "\n",
        "chat_response = client.chat.complete(\n",
        "    model=model,\n",
        "    messages=message\n",
        ")\n",
        "print(chat_response.choices[0].message.content)"
      ],
      "metadata": {
        "id": "nyVzbnL_Wffz",
        "colab": {
          "base_uri": "https://localhost:8080/"
        },
        "outputId": "ff9ac015-8ead-4dad-b6ef-b6f5b8b960f2"
      },
      "execution_count": 8,
      "outputs": [
        {
          "output_type": "stream",
          "name": "stdout",
          "text": [
            "Here is the NS3 code based on the given blueprint:\n",
            "```scss\n",
            "#include \"ns3/core-module.h\"\n",
            "#include \"ns3/network-module.h\"\n",
            "#include \"ns3/internet-module.h\"\n",
            "#include \"ns3/wifi-module.h\"\n",
            "#include \"ns3/mobility-module.h\"\n",
            "#include \"ns3/applications-module.h\"\n",
            "\n",
            "using namespace ns3;\n",
            "\n",
            "int main (int argc, char *argv[])\n",
            "{\n",
            "  // Set up the nodes\n",
            "  NodeContainer nodes;\n",
            "  nodes.Create (7);\n",
            "\n",
            "  // Set up the WiFi network\n",
            "  WifiHelper wifi;\n",
            "  wifi.SetRemoteStationManager (\"ns3::ConstantRateWifiManager\", \"DataMode\", StringValue (\"OfdmRate6MbpsBw10MHz\"));\n",
            "\n",
            "  YansWifiChannelHelper wifiChannel;\n",
            "  wifiChannel.SetPropagationDelay (\"ns3::ConstantSpeedPropagationDelayModel\");\n",
            "  wifiChannel.AddPropagationLoss (\"ns3::LogDistancePropagationLossModel\", \"Exponent\", DoubleValue (3.0));\n",
            "\n",
            "  YansWifiPhyHelper wifiPhy = YansWifiPhyHelper::Default ();\n",
            "  wifiPhy.SetChannel (wifiChannel.Create ());\n",
            "\n",
            "  NqosWifiMacHelper wifiMac = NqosWifiMacHelper::Default ();\n",
            "  wifiMac.SetType (\"ns3::AdhocWifiMac\");\n",
            "\n",
            "  NetDeviceContainer wifiDevices;\n",
            "  wifiDevices = wifi.Install (wifiPhy, wifiMac, nodes);\n",
            "\n",
            "  // Set up the mobility\n",
            "  MobilityHelper mobility;\n",
            "  mobility.SetPositionAllocator (\"ns3::GridPositionAllocator\",\n",
            "                                 \"MinX\", DoubleValue (0.0),\n",
            "                                 \"MinY\", DoubleValue (0.0),\n",
            "                                 \"DeltaX\", DoubleValue (5.0),\n",
            "                                 \"DeltaY\", DoubleValue (10.0),\n",
            "                                 \"GridWidth\", UintegerValue (3),\n",
            "                                 \"LayoutType\", StringValue (\"RowFirst\"));\n",
            "\n",
            "  mobility.SetMobilityModel (\"ns3::RandomWalk2dMobilityModel\",\n",
            "                             \"Bounds\", RectangleValue (Rectangle (-50, 50, -50, 50)));\n",
            "  mobility.Install (nodes);\n",
            "\n",
            "  // Set up the applications\n",
            "  UdpEchoServerHelper echoServer (9);\n",
            "\n",
            "  ApplicationContainer serverApps = echoServer.Install (nodes.Get (1));\n",
            "  serverApps.Start (Seconds (1.0));\n",
            "  serverApps.Stop (Seconds (10.0));\n",
            "\n",
            "  UdpEchoClientHelper echoClient (Ipv4Address (\"10.1.1.2\"), 9);\n",
            "  echoClient.SetAttribute (\"MaxPackets\", UintegerValue (1));\n",
            "  echoClient.SetAttribute (\"Interval\", TimeValue (Seconds (1.0)));\n",
            "  echoClient.SetAttribute (\"PacketSize\", UintegerValue (1024));\n",
            "\n",
            "  ApplicationContainer clientApps = echoClient.Install (nodes.Get (0));\n",
            "  clientApps.Start (Seconds (2.0));\n",
            "  clientApps.Stop (Seconds (10.0));\n",
            "\n",
            "  // Set up the Internet protocol\n",
            "  InternetStackHelper internet;\n",
            "  internet.Install (nodes);\n",
            "\n",
            "  Ipv4AddressHelper address;\n",
            "  address.SetBase (\"10.1.1.0\", \"255.255.255.0\");\n",
            "  Ipv4InterfaceContainer interfaces;\n",
            "  interfaces = address.Assign (wifiDevices);\n",
            "\n",
            "  // Simulate the network\n",
            "  Simulator::Stop (Seconds (10.0));\n",
            "  Simulator::Run ();\n",
            "  Simulator::Destroy ();\n",
            "\n",
            "  return 0;\n",
            "}\n",
            "```\n"
          ]
        }
      ]
    },
    {
      "cell_type": "markdown",
      "source": [
        "## Save the .cc code into a file."
      ],
      "metadata": {
        "id": "TbIHXrgyKnvK"
      }
    },
    {
      "cell_type": "code",
      "source": [
        "with open(\"smart_city-0_shot.cc\", \"w\") as file:\n",
        "    file.write(chat_response.choices[0].message.content)"
      ],
      "metadata": {
        "id": "gLsYe572KnvL"
      },
      "execution_count": 9,
      "outputs": []
    },
    {
      "cell_type": "markdown",
      "source": [
        "# Generate the NS3 code for the smart_home scenario."
      ],
      "metadata": {
        "id": "oJsAz2b-XLDH"
      }
    },
    {
      "cell_type": "code",
      "source": [
        "with open(\"smart_home.json\") as f:\n",
        "        test_blueprint = f.read()"
      ],
      "metadata": {
        "id": "OfrLqwnzXLDI"
      },
      "execution_count": 10,
      "outputs": []
    },
    {
      "cell_type": "code",
      "source": [
        "prompt = \"\"\"\n",
        " Given the following BLUEPRINT generate the NS3 code (to be stored in a file with .cc extension) for it:\n",
        "\n",
        "        BLUEPRINT:\n",
        "\n",
        "        \"\"\"+test_blueprint+\"\"\"\n",
        "\n",
        "        NS3 CODE:\n",
        "\n",
        "        \"\"\"\n",
        "print(prompt)"
      ],
      "metadata": {
        "id": "CKdoiS-xXLDI",
        "colab": {
          "base_uri": "https://localhost:8080/"
        },
        "outputId": "ffa4bdd6-ae68-450f-cd03-a5334dacdd0d"
      },
      "execution_count": 11,
      "outputs": [
        {
          "output_type": "stream",
          "name": "stdout",
          "text": [
            "\n",
            " Given the following BLUEPRINT generate the NS3 code (to be stored in a file with .cc extension) for it:\n",
            "\n",
            "        BLUEPRINT:\n",
            "\n",
            "        {\n",
            "  \"name\": \"Smart Home\",\n",
            "  \"description\": \"A network blueprint for a smart home with various automated devices.\",\n",
            "  \"components\": [\n",
            "    {\n",
            "      \"type\": \"Smart Hub\",\n",
            "      \"id\": \"SH-001\",\n",
            "      \"location\": \"Living Room\",\n",
            "      \"responsibilities\": [\"Device Management\", \"Automation\", \"Security\"],      \n",
            "      \"ip_address\":\"192.168.1.101\"\n",
            "    },\n",
            "    {\"type\": \"WiFi AP\",\n",
            "      \"id\": \"AP-001\",\n",
            "      \"application\": \"WiFi Access Point\",\n",
            "      \"location\": \"City Hall\",      \n",
            "      \"protocol\": \"WiFi\",\n",
            "      \"ip_address\":\"192.168.1.1\",        \n",
            "      \"latitude\": 38.10351066811096,\n",
            "      \"longitude\": 13.3459399220741\n",
            "    },\n",
            "    {\n",
            "      \"type\": \"Smart Thermostat\",\n",
            "      \"id\": \"ST-001\",\n",
            "      \"location\": \"Hallway\",\n",
            "      \"temperature_range\": \"18-25°C\",\n",
            "      \"energy_efficiency\": \"A+\" ,     \n",
            "      \"ip_address\":\"192.168.1.103\"\n",
            "    },\n",
            "    {\n",
            "      \"type\": \"Smart Light Bulb\",\n",
            "      \"id\": \"SLB-001\",\n",
            "      \"location\": \"Kitchen\",\n",
            "      \"brightness\": \"Adjustable\",\n",
            "      \"color_temperature\": \"2700K-6500K\",      \n",
            "      \"ip_address\":\"192.168.1.102\"\n",
            "    },\n",
            "    {\n",
            "      \"type\": \"Smart Door Lock\",\n",
            "      \"id\": \"SDL-001\",\n",
            "      \"location\": \"Front Door\",\n",
            "      \"lock_type\": \"Biometric\",\n",
            "      \"battery_life\": \"6 months\",\n",
            "      \"data_flow\":\"UDP flow at 1Mbps\",\n",
            "      \"ip_address\":\"192.168.1.101\"\n",
            "    },\n",
            "    {\n",
            "      \"type\": \"Smart Security Camera\",\n",
            "      \"id\": \"SSC-001\",\n",
            "      \"location\": \"Backyard\",\n",
            "      \"resolution\": \"1080p\",\n",
            "      \"night_vision\": \"Yes\",\n",
            "      \"data_flow\":\"UDP flow at 1Mbps\",\n",
            "      \"ip_address\":\"192.168.1.100\"\n",
            "    }\n",
            "  ],\n",
            "  \"network_type\": \"Wi-Fi\",\n",
            "  \"protocols\": [\"Wi-Fi\"]\n",
            "}\n",
            "\n",
            "\n",
            "        NS3 CODE:\n",
            "\n",
            "        \n"
          ]
        }
      ]
    },
    {
      "cell_type": "code",
      "source": [
        "message = [\n",
        "    {\n",
        "        \"role\": \"user\",\n",
        "        \"content\": prompt\n",
        "    }\n",
        "]\n",
        "\n",
        "chat_response = client.chat.complete(\n",
        "    model=model,\n",
        "    messages=message\n",
        ")\n",
        "print(chat_response.choices[0].message.content)"
      ],
      "metadata": {
        "id": "tYwod2G3XLDI",
        "colab": {
          "base_uri": "https://localhost:8080/"
        },
        "outputId": "5d22ae1f-54eb-41ca-a46e-c7ac75137320"
      },
      "execution_count": 12,
      "outputs": [
        {
          "output_type": "stream",
          "name": "stdout",
          "text": [
            "To generate the NS3 code based on the given blueprint, you can follow these steps:\n",
            "\n",
            "1. Create a new file with a .cc extension, for example, \"smart_home.cc\".\n",
            "2. Open the file and write the following code:\n",
            "\n",
            "```cpp\n",
            "#include \"ns3/core-module.h\"\n",
            "#include \"ns3/network-module.h\"\n",
            "#include \"ns3/wifi-module.h\"\n",
            "#include \"ns3/internet-module.h\"\n",
            "\n",
            "using namespace ns3;\n",
            "\n",
            "int main(int argc, char *argv[])\n",
            "{\n",
            "  // Create the nodes for each device\n",
            "  NodeContainer nodes;\n",
            "  nodes.Create(6);\n",
            "\n",
            "  // Create the Wi-Fi module\n",
            "  WifiHelper wifi;\n",
            "  wifi.SetStandard(WIFI_PHY_STANDARD_80211a);\n",
            "  wifi.SetRemoteStationManager(\"ns3::ConstantRateWifiManager\", \"DataMode\", StringValue(\"OfdmRate6MbpsBW10MHz\"));\n",
            "\n",
            "  // Create the Wi-Fi network\n",
            "  YansWifiChannelHelper channel = YansWifiChannelHelper::Default();\n",
            "  YansWifiPhyHelper phy = YansWifiPhyHelper::Default();\n",
            "  phy.SetChannel(channel.Create());\n",
            "\n",
            "  // Add the Wi-Fi network to the nodes\n",
            "  NetDeviceContainer devices;\n",
            "  devices = wifi.Install(phy, nodes);\n",
            "\n",
            "  // Assign IP addresses to the devices\n",
            "  Ipv4AddressHelper address;\n",
            "  address.SetBase(\"192.168.1.0\", \"255.255.255.0\");\n",
            "  Ipv4InterfaceContainer interfaces = address.Assign(devices);\n",
            "\n",
            "  // Set up the routing module\n",
            "  Ipv4GlobalRoutingHelper::PopulateRoutingTables();\n",
            "\n",
            "  // Simulate the network\n",
            "  Simulator::Stop(Seconds(10.0));\n",
            "  Simulator::Run();\n",
            "  Simulator::Destroy();\n",
            "\n",
            "  return 0;\n",
            "}\n",
            "```\n",
            "\n",
            "This code creates a simple Wi-Fi network with 6 devices (Smart Home components), assigns IP addresses to them, and simulates the network for 10 seconds. You can customize the code further according to your specific requirements.\n",
            "\n",
            "To compile and run the code, you'll need to have NS3 installed and set up on your system. Refer to the NS3 documentation for instructions on how to do this.\n"
          ]
        }
      ]
    },
    {
      "cell_type": "markdown",
      "source": [
        "## Save the .cc code into a file."
      ],
      "metadata": {
        "id": "GS6ayQKyKswU"
      }
    },
    {
      "cell_type": "code",
      "source": [
        "with open(\"smart_home-0_shot.cc\", \"w\") as file:\n",
        "    file.write(chat_response.choices[0].message.content)"
      ],
      "metadata": {
        "id": "vh2Srn28KswV"
      },
      "execution_count": 13,
      "outputs": []
    }
  ],
  "metadata": {
    "accelerator": "GPU",
    "colab": {
      "gpuType": "T4",
      "machine_shape": "hm",
      "provenance": [],
      "collapsed_sections": [
        "yo7oDeSMWNBR",
        "oJsAz2b-XLDH"
      ],
      "include_colab_link": true
    },
    "kernelspec": {
      "display_name": "Python 3",
      "name": "python3"
    },
    "language_info": {
      "codemirror_mode": {
        "name": "ipython",
        "version": 3
      },
      "file_extension": ".py",
      "mimetype": "text/x-python",
      "name": "python",
      "nbconvert_exporter": "python",
      "pygments_lexer": "ipython3",
      "version": "3.11.8"
    }
  },
  "nbformat": 4,
  "nbformat_minor": 0
}